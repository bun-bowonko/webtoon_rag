{
 "cells": [
  {
   "cell_type": "code",
   "execution_count": 1,
   "id": "14fac493-8489-476c-8ca3-3dff7212dbb2",
   "metadata": {},
   "outputs": [],
   "source": [
    "project_id = \"prod-ai-project\"\n",
    "\n",
    "from google.cloud import bigquery\n",
    "client = bigquery.Client(project=project_id)\n",
    "sql = \"\"\"select series_id, episode_id, org_input_text, org_output_text, prompt \n",
    "        from webtoon_translation.structured_240820_ep_line\n",
    "        where data_split = 'romance_valid'\"\"\""
   ]
  },
  {
   "cell_type": "code",
   "execution_count": 23,
   "id": "8fe67510-449d-4130-a09a-551c0a851abc",
   "metadata": {},
   "outputs": [],
   "source": [
    "df = client.query(sql).result().to_dataframe()\n",
    "#print(df['org_input_text'][0])\n",
    "#print(df['org_output_text'][0])\n",
    "#print(df['prompt'][0])\n",
    "#print(df.keys())"
   ]
  },
  {
   "cell_type": "code",
   "execution_count": 24,
   "id": "eed6be36-48f5-4b2e-9946-67a8c4aedcd0",
   "metadata": {},
   "outputs": [],
   "source": [
    "def instruct_structure(prompt,system_prompt=\n",
    "                       \"\"\"You're an expert translator who translates Korean webtoon in English. Make sure the number of target sentences matches the number of source sentences. The result should be TSV formatted. \n",
    "    • Find a balance between staying true to the Korean meaning and keeping a natural flow. Don't be afraid to add to the text. Embellish it. \n",
    "    • Avoid translating word-for-word. Keep the general feeling and translate the text accordingly. \n",
    "    • Translate with an American audience in mind. This means easy-to-read, conversational English.\"\"\"):\n",
    "    input_text, output_text = prompt.split('### target')\n",
    "    input_text = input_text.replace('### glossaries', '### glossary').replace('\\n* ', '\\n• ')\n",
    "    return f\"\"\"<|begin_of_text|><|start_header_id|>system<|end_header_id|>\n",
    "    {system_prompt}<|eot_id|><|start_header_id|>user<|end_header_id|>\n",
    "    {input_text.strip()}<|eot_id|><|start_header_id|>assistant<|end_header_id|>\"\"\""
   ]
  },
  {
   "cell_type": "code",
   "execution_count": 25,
   "id": "4551f481-c3b3-4644-8513-de3a6dd07c6f",
   "metadata": {},
   "outputs": [
    {
     "name": "stderr",
     "output_type": "stream",
     "text": [
      "100%|████████████████████████████████████████████████████████████████████████████████████████████████| 74/74 [00:00<00:00, 45610.36it/s]\n"
     ]
    }
   ],
   "source": [
    "from tqdm import tqdm\n",
    "tqdm.pandas()\n",
    "df['prompt'] = df['prompt'].progress_apply(lambda x: instruct_structure(x))"
   ]
  },
  {
   "cell_type": "code",
   "execution_count": 26,
   "id": "14074f2b-032a-4ef6-884e-b2e01c04d0d6",
   "metadata": {},
   "outputs": [
    {
     "name": "stdout",
     "output_type": "stream",
     "text": [
      "<|begin_of_text|><|start_header_id|>system<|end_header_id|>\n",
      "    You're an expert translator who translates Korean webtoon in English. Make sure the number of target sentences matches the number of source sentences. The result should be TSV formatted. \n",
      "    • Find a balance between staying true to the Korean meaning and keeping a natural flow. Don't be afraid to add to the text. Embellish it. \n",
      "    • Avoid translating word-for-word. Keep the general feeling and translate the text accordingly. \n",
      "    • Translate with an American audience in mind. This means easy-to-read, conversational English.<|eot_id|><|start_header_id|>user<|end_header_id|>\n",
      "    ### glossary\n",
      "• 아벨 헤일론 (M): abel heylon\n",
      "• 아벨 (M): abel\n",
      "• 피오나 (F): fiona\n",
      "• 마법: magic / spell\n",
      "\n",
      "### source\n",
      "000\t[해설] 북부 최전방 헤일론\n",
      "001\t[피오나:F:독백] 여기가 헤일론 공작 성….\n",
      "002\t[피오나:F:독백] 엄청난 위압감이야…\n",
      "003\t[피오나:F:독백] 나는 결국 가족에게 떠밀려 무자비한 공작이 다스린다는 북부 최전방에 왔다.\n",
      "004\t[피오나:F:독백] 딱 봐도 마왕성 같은 게 사람 엄청 굴릴 것 같다.\n",
      "005\t[피오나:F:독백] 내 무덤을 내가 팠지...\n",
      "006\t[리안더 경:M:대화] 이쪽으로.\n",
      "007\t[리안더 경:M:대화] 문을 열어라.\n",
      "008\t[피오나:F:독백] 문이, 엄청 커…!!\n",
      "009\t[해설] 북부의 공작, 아벨 헤일론\n",
      "010\t[아벨:M:대화] 너 나름대로는 각오했겠지. 하지만…\n",
      "011\t[아벨:M:대화] 너 같은 어린애는 여기에 필요 없다.\n",
      "012\t[아벨:M:대화] 집으로 돌아가도록.\n",
      "013\t[피오나:F:독백] 쓸모없는 자에게 투자할 시간은 없다 이건가.\n",
      "014\t[피오나:F:독백] 아벨은 모르겠지만, 지금의 나는 마땅히 돌아갈 곳도 없어.\n",
      "015\t[피오나:F:독백] 원작 속의, 자신의 마법적 재능을 모르던 피오나는-\n",
      "016\t[피오나:F:독백] 이렇게 그린 가문에서도 헤일론에서도 쫓겨난다.\n",
      "017\t[피오나:F:독백] 그리고 이때 세상에 버림받은 상처가\n",
      "018\t[피오나:F:독백] 후에 피오나가 악역이 되는 결정적인 계기가 된다.\n",
      "019\t[피오나:F:독백] 하지만 지금의 나는 알고 있어.<|eot_id|><|start_header_id|>assistant<|end_header_id|>\n"
     ]
    }
   ],
   "source": [
    "print(df['prompt'][0])"
   ]
  },
  {
   "cell_type": "code",
   "execution_count": 28,
   "id": "ecbe2c31-7b9c-4ed2-894a-5ca36823d72b",
   "metadata": {},
   "outputs": [
    {
     "name": "stderr",
     "output_type": "stream",
     "text": [
      "/home/bun.2/.cache/pypoetry/virtualenvs/poetry-env-eDEwtiIl-py3.10/lib/python3.10/site-packages/tqdm/auto.py:21: TqdmWarning: IProgress not found. Please update jupyter and ipywidgets. See https://ipywidgets.readthedocs.io/en/stable/user_install.html\n",
      "  from .autonotebook import tqdm as notebook_tqdm\n"
     ]
    }
   ],
   "source": [
    "from datasets import load_dataset, Dataset\n",
    "\n",
    "infer_dataset = Dataset.from_pandas(df[['prompt']], split=\"test\")"
   ]
  },
  {
   "cell_type": "code",
   "execution_count": 29,
   "id": "3d7b4a65-c44f-4340-af63-2d6a81cda2d3",
   "metadata": {},
   "outputs": [
    {
     "name": "stdout",
     "output_type": "stream",
     "text": [
      "Dataset({\n",
      "    features: ['prompt'],\n",
      "    num_rows: 74\n",
      "})\n"
     ]
    }
   ],
   "source": [
    "print(infer_dataset)"
   ]
  },
  {
   "cell_type": "code",
   "execution_count": 30,
   "id": "55f7574f-8243-4ebf-bce5-aac0375060f3",
   "metadata": {},
   "outputs": [
    {
     "name": "stdout",
     "output_type": "stream",
     "text": [
      "{'prompt': \"<|begin_of_text|><|start_header_id|>system<|end_header_id|>\\n    You're an expert translator who translates Korean webtoon in English. Make sure the number of target sentences matches the number of source sentences. The result should be TSV formatted. \\n    • Find a balance between staying true to the Korean meaning and keeping a natural flow. Don't be afraid to add to the text. Embellish it. \\n    • Avoid translating word-for-word. Keep the general feeling and translate the text accordingly. \\n    • Translate with an American audience in mind. This means easy-to-read, conversational English.<|eot_id|><|start_header_id|>user<|end_header_id|>\\n    ### glossary\\n• 아벨 헤일론 (M): abel heylon\\n• 아벨 (M): abel\\n• 피오나 (F): fiona\\n• 마법: magic / spell\\n\\n### source\\n000\\t[해설] 북부 최전방 헤일론\\n001\\t[피오나:F:독백] 여기가 헤일론 공작 성….\\n002\\t[피오나:F:독백] 엄청난 위압감이야…\\n003\\t[피오나:F:독백] 나는 결국 가족에게 떠밀려 무자비한 공작이 다스린다는 북부 최전방에 왔다.\\n004\\t[피오나:F:독백] 딱 봐도 마왕성 같은 게 사람 엄청 굴릴 것 같다.\\n005\\t[피오나:F:독백] 내 무덤을 내가 팠지...\\n006\\t[리안더 경:M:대화] 이쪽으로.\\n007\\t[리안더 경:M:대화] 문을 열어라.\\n008\\t[피오나:F:독백] 문이, 엄청 커…!!\\n009\\t[해설] 북부의 공작, 아벨 헤일론\\n010\\t[아벨:M:대화] 너 나름대로는 각오했겠지. 하지만…\\n011\\t[아벨:M:대화] 너 같은 어린애는 여기에 필요 없다.\\n012\\t[아벨:M:대화] 집으로 돌아가도록.\\n013\\t[피오나:F:독백] 쓸모없는 자에게 투자할 시간은 없다 이건가.\\n014\\t[피오나:F:독백] 아벨은 모르겠지만, 지금의 나는 마땅히 돌아갈 곳도 없어.\\n015\\t[피오나:F:독백] 원작 속의, 자신의 마법적 재능을 모르던 피오나는-\\n016\\t[피오나:F:독백] 이렇게 그린 가문에서도 헤일론에서도 쫓겨난다.\\n017\\t[피오나:F:독백] 그리고 이때 세상에 버림받은 상처가\\n018\\t[피오나:F:독백] 후에 피오나가 악역이 되는 결정적인 계기가 된다.\\n019\\t[피오나:F:독백] 하지만 지금의 나는 알고 있어.<|eot_id|><|start_header_id|>assistant<|end_header_id|>\"}\n"
     ]
    }
   ],
   "source": [
    "print(infer_dataset[0])"
   ]
  },
  {
   "cell_type": "code",
   "execution_count": null,
   "id": "2a7d2610-b682-4978-a5ff-be7bb10b9ed4",
   "metadata": {},
   "outputs": [],
   "source": []
  }
 ],
 "metadata": {
  "kernelspec": {
   "display_name": "Python 3 (ipykernel)",
   "language": "python",
   "name": "python3"
  },
  "language_info": {
   "codemirror_mode": {
    "name": "ipython",
    "version": 3
   },
   "file_extension": ".py",
   "mimetype": "text/x-python",
   "name": "python",
   "nbconvert_exporter": "python",
   "pygments_lexer": "ipython3",
   "version": "3.10.16"
  }
 },
 "nbformat": 4,
 "nbformat_minor": 5
}
