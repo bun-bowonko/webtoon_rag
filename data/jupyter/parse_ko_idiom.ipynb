{
 "cells": [
  {
   "cell_type": "code",
   "execution_count": 1,
   "id": "3d4a4362-38ce-440a-ba2d-42a1abbb41b5",
   "metadata": {
    "tags": []
   },
   "outputs": [],
   "source": [
    "import pandas as pd\n",
    "\n",
    "data = pd.read_csv(\"../sample.tsv\", delimiter='\\t')\n",
    "ko = data['Korean']\n",
    "mean = data['Definition']\n",
    "en = data['English'].copy()"
   ]
  },
  {
   "cell_type": "code",
   "execution_count": 2,
   "id": "d20e9cb4-4c7a-4e8d-820e-c24538a3b40b",
   "metadata": {
    "tags": []
   },
   "outputs": [],
   "source": [
    "en[24] = \"1. to have miles to go\\t2. to have a long way to go\"\n",
    "en[39] = \"1. to rack sb's brain\\t2. to bother one's head about\"\n",
    "en[54] = \"1. to dream on\\t2. to burst sb's bubble\"\n",
    "en[59] = \"1. to pull the wool over sb's eyes\\t2. to throw dust in sb's eyes\"\n",
    "en[80] = \"1. to be sitting on a gold mine\\t2. to be rolling in dough\"\n",
    "en[92] = \"1. to blow sb's top\\t2. to hit the ceiling / roof\\n3. to lose sb's temper4. to fly off the handle\"\n",
    "en[93] = \"1. to burn sb's fingers\\t2. to get sb's fingers burned\"\n",
    "en[98] = \"1. a dead end\\t2. a blind alley\"\n",
    "en[101] = \"1. sb deserves it\\t2. serves sb right\"\n",
    "en[109] = \"1. to get the sack\\t2. to make heads roll\"\n",
    "en[120] = \"1. out of the blue\\t2. out of nowhere\"\n",
    "en[121] = \"1. to pay over the odds\\t2. to pay through the nose\"\n",
    "en[143] = \"1. to be free-handed\\t2. to be open-handed\"\n",
    "en[162] = \"1. to have it both ways\\t2. to two-time\\n3. to double-cross\"\n",
    "en[164] = \"1. to cry over split milk\\t2. there's no going back\"\n",
    "en[172] = \"1. to put an end to\\t2. to put a period to\"\n",
    "en[176] = \"1. to kill (sb's) vibe\\t2. a buzzkill\"\n",
    "en[182] = \"1. every other day\\t2. almost everyday\"\n",
    "en[191] = \"1. dumbfounded\\t2. to be lost for words\"\n",
    "en[194] = \"1. sb missed the boat\\t2. day late and a dollar short\"\n",
    "en[197] = \"1. that's rich\\t2. sb must be joking\"\n",
    "en[199] = \"1. to be on the ropes\\t2. to be in a tight spot\""
   ]
  },
  {
   "cell_type": "code",
   "execution_count": 3,
   "id": "a683c045-2988-4ea5-af42-46a84d23ec36",
   "metadata": {
    "tags": []
   },
   "outputs": [
    {
     "name": "stdout",
     "output_type": "stream",
     "text": [
      "1. to rack sb's brain\t2. to bother one's head about\n"
     ]
    }
   ],
   "source": [
    "print(en[39])"
   ]
  },
  {
   "cell_type": "code",
   "execution_count": 4,
   "id": "b92fb6a0-c0d7-46ca-a4dd-ed1201a67a6a",
   "metadata": {
    "tags": []
   },
   "outputs": [
    {
     "name": "stdout",
     "output_type": "stream",
     "text": [
      "비장의 무기\n"
     ]
    }
   ],
   "source": [
    "print(ko[201])"
   ]
  },
  {
   "cell_type": "code",
   "execution_count": 5,
   "id": "a698fb48-bc11-44d1-a59d-1a2dc4a0bd02",
   "metadata": {
    "tags": []
   },
   "outputs": [
    {
     "name": "stdout",
     "output_type": "stream",
     "text": [
      "121\n"
     ]
    }
   ],
   "source": [
    "cnt = 0\n",
    "final_ko = []\n",
    "final_en = []\n",
    "todo_ko = []\n",
    "todo_en = []\n",
    "todo_mean = []\n",
    "for i in range(len(en)):\n",
    "    if pd.isna(en[i]):\n",
    "        cnt += 1\n",
    "        todo_ko.append(ko[i])\n",
    "        todo_en.append(en[i])\n",
    "        todo_mean.append(mean[i])\n",
    "    else:\n",
    "        final_ko.append(ko[i])\n",
    "        final_en.append(en[i])\n",
    "print(cnt)"
   ]
  },
  {
   "cell_type": "code",
   "execution_count": 6,
   "id": "3f763814-8b4e-43c3-8762-1a5133d84407",
   "metadata": {
    "tags": []
   },
   "outputs": [],
   "source": [
    "final_data = []\n",
    "for i in range(len(final_ko)):\n",
    "    final_data.append(f\"{final_ko[i]} > {final_en[i]}\")\n",
    "with open(f\"/home/jupyter/poetry-env/data/chatgpt_idiom_result/output_{'00'}.txt\", 'w', encoding='utf-8') as file:\n",
    "    file.writelines('\\n'.join(final_data))"
   ]
  },
  {
   "cell_type": "code",
   "execution_count": null,
   "id": "58028f32-fee3-4888-a9f5-d1c77ba9bc8b",
   "metadata": {},
   "outputs": [],
   "source": []
  }
 ],
 "metadata": {
  "environment": {
   "kernel": "conda-base-poetry-env-qdleyyui-py3.10",
   "name": "workbench-notebooks.m128",
   "type": "gcloud",
   "uri": "us-docker.pkg.dev/deeplearning-platform-release/gcr.io/workbench-notebooks:m128"
  },
  "kernelspec": {
   "display_name": "Python 3 (ipykernel)",
   "language": "python",
   "name": "python3"
  },
  "language_info": {
   "codemirror_mode": {
    "name": "ipython",
    "version": 3
   },
   "file_extension": ".py",
   "mimetype": "text/x-python",
   "name": "python",
   "nbconvert_exporter": "python",
   "pygments_lexer": "ipython3",
   "version": "3.10.16"
  }
 },
 "nbformat": 4,
 "nbformat_minor": 5
}
