{
 "cells": [
  {
   "cell_type": "code",
   "execution_count": 64,
   "id": "30a6f4f1-34c6-4504-b1db-cb0b30f22a5f",
   "metadata": {
    "tags": []
   },
   "outputs": [],
   "source": [
    "def make_file(input_file='idiom.txt', version='1', output_file='ko_idiom/output1.txt'):    \n",
    "    with open(input_file, 'r', encoding='utf-8') as file:\n",
    "        lines = file.readlines()\n",
    "        \n",
    "    lines = [line.strip() for line in lines]\n",
    "    split_dict = {'1':'–','2':'→','3':'–','4':'-'}\n",
    "    \n",
    "    ko = []\n",
    "    en = []\n",
    "    for i in range(len(lines)):\n",
    "        splits = lines[i].split(split_dict[version])\n",
    "        #print(splits, len(splits))\n",
    "        ko.append(splits[0].strip())\n",
    "        en.append(splits[1].strip())\n",
    "        \n",
    "    ko_not_duplicated = list(set(ko))\n",
    "    print(len(ko_not_duplicated),  len(ko))\n",
    "    \n",
    "    hash = {}\n",
    "    for i in range(len(ko)):\n",
    "        if ko[i] not in hash:\n",
    "            hash[ko[i]] = en[i]\n",
    "        else:\n",
    "            pass\n",
    "        \n",
    "    print(len(hash)/len(ko))\n",
    "    \n",
    "    sens = []\n",
    "    for k, e in hash.items():\n",
    "        sen = k+' - '+e+'\\n'\n",
    "        sens.append(sen)\n",
    "    \n",
    "    with open(output_file, 'w', encoding='utf-8') as file:\n",
    "        file.writelines(sens)\n",
    "    \n",
    "        "
   ]
  },
  {
   "cell_type": "code",
   "execution_count": 57,
   "id": "e6317a82-61cb-4d78-b52a-42e202a233ef",
   "metadata": {
    "tags": []
   },
   "outputs": [
    {
     "name": "stdout",
     "output_type": "stream",
     "text": [
      "816 1699\n",
      "0.48028251912889935\n"
     ]
    }
   ],
   "source": [
    "make_file(input_file='idiom.txt', version='1', output_file='ko_idiom/output1.txt')"
   ]
  },
  {
   "cell_type": "code",
   "execution_count": 66,
   "id": "fc3bd117-3816-45c8-8f26-b81cdfb2e52a",
   "metadata": {
    "tags": []
   },
   "outputs": [],
   "source": [
    "def merge_output():\n",
    "    lines = []\n",
    "\n",
    "    with open('ko_idiom/output2.txt', 'r', encoding='utf-8') as file:\n",
    "        lines.extend(file.readlines())\n",
    "\n",
    "    with open('ko_idiom/output3.txt', 'r', encoding='utf-8') as file:\n",
    "        lines.extend(file.readlines())\n",
    "        \n",
    "    with open('ko_idiom/output1.txt', 'r', encoding='utf-8') as file:\n",
    "        lines.extend(file.readlines())\n",
    "\n",
    "    \n",
    "    with open('output_merge.txt', 'w', encoding='utf-8') as file:\n",
    "        file.writelines(lines)\n"
   ]
  },
  {
   "cell_type": "code",
   "execution_count": 67,
   "id": "d998bc4f-6292-4700-baa3-5e21074e64c2",
   "metadata": {
    "tags": []
   },
   "outputs": [],
   "source": [
    "merge_output()"
   ]
  },
  {
   "cell_type": "code",
   "execution_count": 68,
   "id": "c8f16bda-e7eb-4838-b0a7-ccadba1d4096",
   "metadata": {
    "tags": []
   },
   "outputs": [
    {
     "name": "stdout",
     "output_type": "stream",
     "text": [
      "1467 1808\n",
      "0.8113938053097345\n"
     ]
    }
   ],
   "source": [
    "make_file(input_file='output_merge.txt', version='4', output_file='ko_idiom/output.txt')"
   ]
  },
  {
   "cell_type": "code",
   "execution_count": null,
   "id": "dbec682a-6944-4beb-b524-85140d26422d",
   "metadata": {},
   "outputs": [],
   "source": []
  }
 ],
 "metadata": {
  "environment": {
   "kernel": "conda-base-poetry-env-qdleyyui-py3.10",
   "name": "workbench-notebooks.m128",
   "type": "gcloud",
   "uri": "us-docker.pkg.dev/deeplearning-platform-release/gcr.io/workbench-notebooks:m128"
  },
  "kernelspec": {
   "display_name": "Python 3 (ipykernel)",
   "language": "python",
   "name": "python3"
  },
  "language_info": {
   "codemirror_mode": {
    "name": "ipython",
    "version": 3
   },
   "file_extension": ".py",
   "mimetype": "text/x-python",
   "name": "python",
   "nbconvert_exporter": "python",
   "pygments_lexer": "ipython3",
   "version": "3.10.16"
  }
 },
 "nbformat": 4,
 "nbformat_minor": 5
}
