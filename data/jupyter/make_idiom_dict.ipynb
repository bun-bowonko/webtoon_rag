{
 "cells": [
  {
   "cell_type": "code",
   "execution_count": 1,
   "id": "2feefe79-a8e4-4dfa-b9ac-1f8ab4a889e8",
   "metadata": {
    "tags": []
   },
   "outputs": [],
   "source": [
    "text = '1. 가려운 곳을 긁어 주다 > Scratch where it itches (Give exactly what is needed)'"
   ]
  },
  {
   "cell_type": "code",
   "execution_count": 2,
   "id": "b6ac8c6c-d55c-45b6-a78f-c19ebfd4870b",
   "metadata": {
    "tags": []
   },
   "outputs": [],
   "source": [
    "import re\n",
    "\n",
    "pattern = r\"(\\d+\\. )(.*?>) .*? \\((.*?)\\)\"\n",
    "replacement = r\"\\2 \\3\""
   ]
  },
  {
   "cell_type": "code",
   "execution_count": 3,
   "id": "2c299c3c-76eb-4874-b5b9-49e7eaa82e40",
   "metadata": {
    "tags": []
   },
   "outputs": [],
   "source": [
    "result = re.sub(pattern, replacement, text)"
   ]
  },
  {
   "cell_type": "code",
   "execution_count": 4,
   "id": "9d21fd6e-8574-4595-83ff-be96b953e955",
   "metadata": {
    "tags": []
   },
   "outputs": [
    {
     "name": "stdout",
     "output_type": "stream",
     "text": [
      "가려운 곳을 긁어 주다 > Give exactly what is needed\n"
     ]
    }
   ],
   "source": [
    "print(result)"
   ]
  },
  {
   "cell_type": "code",
   "execution_count": 14,
   "id": "fe8a8e65-1c58-4797-8fb8-cdcb475b35d8",
   "metadata": {
    "tags": []
   },
   "outputs": [],
   "source": [
    "import re\n",
    "def transfer_sentence(sen):\n",
    "    sen = sen.strip()\n",
    "    if '(' in sen and ')' in sen:\n",
    "        pattern = r\"(\\d+\\. )(.*?>) .*? \\((.*?)\\)\"\n",
    "        replacement = r\"\\2 \\3\"\n",
    "        result = re.sub(pattern, replacement, sen)\n",
    "    else:\n",
    "        pattern = r\"(\\d+\\.\\s*)(.*?>) (.*?)\"\n",
    "        replacement = r\"\\2 \\3\"\n",
    "        result = re.sub(pattern, replacement, sen)\n",
    "    return result"
   ]
  },
  {
   "cell_type": "code",
   "execution_count": 15,
   "id": "e6e781d1-b1cb-4361-85e7-e902b750f960",
   "metadata": {
    "tags": []
   },
   "outputs": [
    {
     "name": "stdout",
     "output_type": "stream",
     "text": [
      "눈코 뜰 새 없다 > Be extremely busy\n",
      "간에 기별도 안 가다 > Not enough food to satisfy\n"
     ]
    }
   ],
   "source": [
    "print(transfer_sentence('9. 눈코 뜰 새 없다 > Be extremely busy'))\n",
    "print(transfer_sentence('3. 간에 기별도 안 가다 > Not even reach the liver (Not enough food to satisfy)  '))"
   ]
  },
  {
   "cell_type": "code",
   "execution_count": 16,
   "id": "f3ebf531-cd91-4291-b64f-4aa8f2cfdbe9",
   "metadata": {
    "tags": []
   },
   "outputs": [],
   "source": [
    "import os\n",
    "import traceback\n",
    "def make_idiom_dictionary(idiom_dir, dict_path):\n",
    "    ko = []\n",
    "    en = []\n",
    "    hash = {}\n",
    "    try:\n",
    "        files = os.listdir(idiom_dir)\n",
    "        files = [file for file in files if file.endswith('txt')]\n",
    "        #폴더 안에 있는 모든 파일에 대한 내용을 merge\n",
    "        print('file 개수 : ',len(files))\n",
    "        for f in files:\n",
    "            f_path = os.path.join(idiom_dir, f)\n",
    "            \n",
    "            with open(f_path, 'r', encoding='utf-8') as file:\n",
    "                lines = file.readlines()\n",
    "            lines = [line.strip() for line in lines]\n",
    "            \n",
    "            for i in range(len(lines)):\n",
    "                if len(lines[i]) > 0 and '>' in lines[i]:\n",
    "                    filtered_sen = transfer_sentence(lines[i])\n",
    "                    splits = filtered_sen.split('>')\n",
    "                    #print(splits)\n",
    "                    korean = splits[0].strip()\n",
    "                    pattern = r\"(\\d+\\.)(.*?)\"\n",
    "                    replacement = r\"\\2\"\n",
    "                    korean = re.sub(pattern, replacement, korean).strip()\n",
    "                    english = splits[1].strip()\n",
    "\n",
    "                    if korean not in hash:\n",
    "                        hash[korean] = english\n",
    "        sens = []\n",
    "        for k,e in hash.items():\n",
    "            sen = k+' > '+e+'\\n'\n",
    "            sens.append(sen)\n",
    "        with open(dict_path, 'w', encoding='utf-8') as file:\n",
    "            file.writelines(sens)\n",
    "\n",
    "    except Exception as e:\n",
    "        print(e)\n",
    "        traceback.print_exc()"
   ]
  },
  {
   "cell_type": "code",
   "execution_count": 18,
   "id": "8a49ea2b-0543-4bb1-b276-28a8b9317e20",
   "metadata": {
    "tags": []
   },
   "outputs": [
    {
     "name": "stdout",
     "output_type": "stream",
     "text": [
      "file 개수 :  10002\n"
     ]
    }
   ],
   "source": [
    "make_idiom_dictionary('/home/bun.2/poetry-env/data/chatgpt_idiom_result', '/home/bun.2/poetry-env/data/idiom_dict.txt')"
   ]
  },
  {
   "cell_type": "code",
   "execution_count": 22,
   "id": "47a51471-94d3-432c-b76d-9f33a2015775",
   "metadata": {},
   "outputs": [
    {
     "name": "stdout",
     "output_type": "stream",
     "text": [
      "참을 인(忍)을 새기다 > Endure patiently\n"
     ]
    }
   ],
   "source": [
    "test = '60. 참을 인(忍)을 새기다 > Endure patiently'\n",
    "pattern = r\"(\\d+\\.)(.*?>) (.*?)\"\n",
    "replacement = r\"\\2 \\3\"\n",
    "test = re.sub(pattern, replacement, test).strip()\n",
    "print(test)"
   ]
  },
  {
   "cell_type": "code",
   "execution_count": null,
   "id": "a693f741-8068-4ee3-ac63-136c64431f8a",
   "metadata": {},
   "outputs": [],
   "source": []
  }
 ],
 "metadata": {
  "environment": {
   "kernel": "conda-base-poetry-env-qdleyyui-py3.10",
   "name": "workbench-notebooks.m128",
   "type": "gcloud",
   "uri": "us-docker.pkg.dev/deeplearning-platform-release/gcr.io/workbench-notebooks:m128"
  },
  "kernelspec": {
   "display_name": "Python 3 (ipykernel)",
   "language": "python",
   "name": "python3"
  },
  "language_info": {
   "codemirror_mode": {
    "name": "ipython",
    "version": 3
   },
   "file_extension": ".py",
   "mimetype": "text/x-python",
   "name": "python",
   "nbconvert_exporter": "python",
   "pygments_lexer": "ipython3",
   "version": "3.10.16"
  }
 },
 "nbformat": 4,
 "nbformat_minor": 5
}
