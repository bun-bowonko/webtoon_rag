{
 "cells": [
  {
   "cell_type": "code",
   "execution_count": 36,
   "id": "573444e2-d9e2-4c9e-8af1-c72642cc50e2",
   "metadata": {
    "tags": []
   },
   "outputs": [],
   "source": [
    "import os\n",
    "import re\n",
    "\n",
    "def transfer_sentence(sen):\n",
    "    sen = sen.strip()\n",
    "    if '(' in sen and ')' in sen:\n",
    "        pattern = r\"(\\d+\\. )(.*?>) .*? \\((.*?)\\)\"\n",
    "        replacement = r\"\\2 \\3\"\n",
    "        result = re.sub(pattern, replacement, sen)\n",
    "    else:\n",
    "        pattern = r\"(\\d+\\. )(.*?>) (.*?)\"\n",
    "        replacement = r\"\\2 \\3\"\n",
    "        result = re.sub(pattern, replacement, sen)\n",
    "    return result\n",
    "\n",
    "hash = {}\n",
    "idiom_dir = '/home/jupyter/poetry-env/data/chatgpt_idiom_result'\n",
    "files = os.listdir(idiom_dir)\n",
    "files = [file for file in files if file.endswith('txt')]\n",
    "\n",
    "cnt = 0\n",
    "cnt_list = []\n",
    "for f in files:\n",
    "    f_path = os.path.join(idiom_dir, f)\n",
    "    \n",
    "    with open(f_path, 'r', encoding='utf-8') as file:\n",
    "        lines = file.readlines()\n",
    "    lines = [line.strip() for line in lines]\n",
    "    \n",
    "    for i in range(len(lines)):\n",
    "        if len(lines[i]) > 0 and '>' in lines[i]:\n",
    "            filtered_sen = transfer_sentence(lines[i])\n",
    "            splits = filtered_sen.split('>')\n",
    "            korean = splits[0].strip()\n",
    "            korean = splits[0].strip()\n",
    "            pattern = r\"(\\d+\\.)(.*?)\"\n",
    "            replacement = r\"\\2\"\n",
    "            korean = re.sub(pattern, replacement, korean).strip()\n",
    "            english = splits[1].strip()\n",
    "            \n",
    "            if korean not in hash:\n",
    "                hash[korean] = english\n",
    "                cnt += 1\n",
    "    cnt_list.append(cnt)\n",
    "                "
   ]
  },
  {
   "cell_type": "code",
   "execution_count": 37,
   "id": "f3465071-8508-4d44-818b-92510de33117",
   "metadata": {
    "tags": []
   },
   "outputs": [
    {
     "name": "stdout",
     "output_type": "stream",
     "text": [
      "9002\n"
     ]
    }
   ],
   "source": [
    "print(len(cnt_list))"
   ]
  },
  {
   "cell_type": "code",
   "execution_count": 38,
   "id": "18a74a5a-f097-4229-b7a4-6a57e9d9f081",
   "metadata": {
    "tags": []
   },
   "outputs": [
    {
     "data": {
      "image/png": "[encoded data removed]",
      "text/plain": [
       "<Figure size 400x300 with 1 Axes>"
      ]
     },
     "metadata": {},
     "output_type": "display_data"
    }
   ],
   "source": [
    "import matplotlib.pyplot as plt\n",
    "\n",
    "def plot_graph(x, y):\n",
    "    plt.figure(figsize=(4, 3))\n",
    "    plt.plot(x, y, marker='.', linestyle='-',markersize=1, color='b', label='Data')\n",
    "    plt.xlabel('file_num')\n",
    "    plt.ylabel('idiom_total_num')\n",
    "    plt.title('track idiom data')\n",
    "    plt.legend()\n",
    "    plt.grid(True)\n",
    "    plt.show()\n",
    "\n",
    "# 예제 리스트\n",
    "gx = list(range(1,len(cnt_list)+1))\n",
    "gy = cnt_list\n",
    "\n",
    "plot_graph(gx, gy)"
   ]
  },
  {
   "cell_type": "code",
   "execution_count": null,
   "id": "ac70c2b9-7e00-4081-b121-c4fbe2649d55",
   "metadata": {},
   "outputs": [],
   "source": []
  }
 ],
 "metadata": {
  "environment": {
   "kernel": "conda-base-poetry-env-qdleyyui-py3.10",
   "name": "workbench-notebooks.m128",
   "type": "gcloud",
   "uri": "us-docker.pkg.dev/deeplearning-platform-release/gcr.io/workbench-notebooks:m128"
  },
  "kernelspec": {
   "display_name": "Python 3 (ipykernel)",
   "language": "python",
   "name": "python3"
  },
  "language_info": {
   "codemirror_mode": {
    "name": "ipython",
    "version": 3
   },
   "file_extension": ".py",
   "mimetype": "text/x-python",
   "name": "python",
   "nbconvert_exporter": "python",
   "pygments_lexer": "ipython3",
   "version": "3.10.16"
  }
 },
 "nbformat": 4,
 "nbformat_minor": 5
}
