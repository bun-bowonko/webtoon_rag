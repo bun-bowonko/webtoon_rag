{
 "cells": [
  {
   "cell_type": "code",
   "execution_count": 1,
   "id": "0a4ddd41-366f-4a05-a757-f0b8e092ea87",
   "metadata": {},
   "outputs": [],
   "source": [
    "import pandas as pd\n",
    "\n",
    "file_path = \"evaluate_v2.xlsx\"\n",
    "labels = []\n",
    "checks = []\n",
    "\n",
    "for i in range(58,60+1):\n",
    "    for j in range(0,2+1):\n",
    "        sheet_name = f\"result_{i}_try{j}\"\n",
    "        df = pd.read_excel(file_path, sheet_name=sheet_name)\n",
    "        labels.extend(df['라벨 (1: 첫 번 째 후보군이 더 나은 경우, 2 : 두 번 째 후보군이 더 나은 경우, 3: 둘 다 괜찮은 경우. 4 : 둘 다 별로인 경우)'])\n",
    "        checks.extend(df['오역여부'])"
   ]
  },
  {
   "cell_type": "code",
   "execution_count": 2,
   "id": "08806349-6b8f-428d-916d-e6776bf9d643",
   "metadata": {},
   "outputs": [
    {
     "name": "stdout",
     "output_type": "stream",
     "text": [
      "849 849\n"
     ]
    }
   ],
   "source": [
    "print(len(labels), len(checks))"
   ]
  },
  {
   "cell_type": "code",
   "execution_count": 3,
   "id": "e76f97dc-ba9e-4e3f-ace3-919b75044d0a",
   "metadata": {},
   "outputs": [
    {
     "name": "stdout",
     "output_type": "stream",
     "text": [
      "[처리 전]총 오역 수 : 17건/849건, 비율 : 2.0%\n",
      "오역을 개선한 경우 : 0건/17건, 비율 : 0.0%\n",
      "오역을 개선하지 못한 경우 : 17건/17건, 비율 : 100.0%\n",
      "오역이 추가로 발생한 경우 : 0건/832건, 비율 : 0.0%\n",
      "[처리 후]총 오역 수: 17건/849건, 비율 : 2.0%\n",
      "\n",
      "번역 선호도가 상승한 경우 : 100건/849건, 비율 : 11.78%\n",
      "번역 선호도가 하락한 경우 : 183건/849건, 비율 : 21.55%\n",
      "번역 선호도가 그대로인 경우 : 566건/849건, 비율 : 66.67%\n"
     ]
    }
   ],
   "source": [
    "#오역을 개선한 경우\n",
    "b_cnt = 0#성능 개선 개수\n",
    "w_cnt = 0#성능 저하 개수\n",
    "critical_b_cnt = 0#오역이었다가 개선된 개수\n",
    "critical_w_cnt = 0#오역으로 악화된 개수\n",
    "total_worse_cnt = 0#오역인 경우의 개수\n",
    "total_normal_cnt = 0 #오역이 아니었던 경우의 개수\n",
    "total_cnt = len(labels)\n",
    "\n",
    "for label, check in zip(labels, checks):\n",
    "    if label == 2:\n",
    "        b_cnt += 1\n",
    "        if check == 'O':\n",
    "            critical_b_cnt += 1\n",
    "            total_worse_cnt += 1\n",
    "        else:\n",
    "            total_normal_cnt += 1#1은 오역이 아님\n",
    "    elif label == 1:\n",
    "        w_cnt += 1\n",
    "        if check == 'O':\n",
    "            total_worse_cnt += 1#2에서 오역이 생긴 경우\n",
    "            critical_w_cnt += 1\n",
    "        else:\n",
    "            total_normal_cnt += 1#1은 오역이 아니라는 거\n",
    "    elif label == 4:\n",
    "        if check == 'O':\n",
    "            total_worse_cnt += 1\n",
    "        else:\n",
    "            total_normal_cnt += 1\n",
    "    else:#label==3, 1>3\n",
    "        total_normal_cnt += 1 #오역이 아님\n",
    "\n",
    "#원래 오역이었던 경우 + 오역이 생긴 경우        \n",
    "print(f\"[처리 전]총 오역 수 : {total_worse_cnt}건/{total_cnt}건, 비율 : {round(total_worse_cnt/total_cnt*100,2)}%\")\n",
    "#원래 오역이었는데 -> 2&오역 o\n",
    "print(f\"오역을 개선한 경우 : {critical_b_cnt}건/{total_worse_cnt-critical_w_cnt}건, 비율 : {round(critical_b_cnt/(total_worse_cnt-critical_w_cnt)*100,2)}%\") \n",
    "#원래 오역이었는데 -> 계속 4로 라벨링\n",
    "print(f\"오역을 개선하지 못한 경우 : {(total_worse_cnt-critical_w_cnt-critical_b_cnt)}건/{total_worse_cnt-critical_w_cnt}건, 비율 : {round((total_worse_cnt-critical_w_cnt-critical_b_cnt)/(total_worse_cnt-critical_w_cnt)*100,2)}%\")\n",
    "#오역이 아니었는데(1,2&오역x,3) -> 오역이 된 경우 : 1&오역O(후보군 2가 오역인 경우) \n",
    "print(f\"오역이 추가로 발생한 경우 : {critical_w_cnt}건/{total_normal_cnt}건, 비율 : {round((critical_w_cnt)/total_normal_cnt*100,2)}%\")\n",
    "print(f\"[처리 후]총 오역 수: {total_worse_cnt-critical_b_cnt}건/{total_cnt}건, 비율 : {round((total_worse_cnt-critical_b_cnt)/total_cnt*100,2)}%\")\n",
    "print()\n",
    "print(f\"번역 선호도가 상승한 경우 : {b_cnt}건/{total_cnt}건, 비율 : {round(b_cnt/total_cnt*100,2)}%\")\n",
    "print(f\"번역 선호도가 하락한 경우 : {w_cnt}건/{total_cnt}건, 비율 : {round(w_cnt/total_cnt*100,2)}%\")\n",
    "print(f\"번역 선호도가 그대로인 경우 : {total_cnt-w_cnt-b_cnt}건/{total_cnt}건, 비율 : {round((total_cnt-w_cnt-b_cnt)/total_cnt*100,2)}%\")"
   ]
  },
  {
   "cell_type": "code",
   "execution_count": 25,
   "id": "00427304-9f9b-4f1f-b159-09dcfe8b4fec",
   "metadata": {},
   "outputs": [
    {
     "name": "stdout",
     "output_type": "stream",
     "text": [
      "Index(['Unnamed: 0', 'Unnamed: 1', 'Unnamed: 2', 'Unnamed: 3', 'Unnamed: 4',\n",
      "       'Unnamed: 5'],\n",
      "      dtype='object')\n"
     ]
    }
   ],
   "source": [
    "sheet_name = f\"관용어구가 포함된 평가 시트\"\n",
    "df_idiom = pd.read_excel(file_path, sheet_name=sheet_name)\n",
    "print(df_idiom.keys())"
   ]
  },
  {
   "cell_type": "code",
   "execution_count": 50,
   "id": "02ec4025-af35-428c-9121-675df1500bd6",
   "metadata": {},
   "outputs": [
    {
     "name": "stdout",
     "output_type": "stream",
     "text": [
      "[적용 전]오역 수 : 6건/117건, 비율 : 5.13%\n",
      "오역을 개선한 경우 : 1건/7건, 비율 : 14.29%\n",
      "오역이 추가로 생성된 경우 : 0건/110건, 비율 : 0.0%\n",
      "[적용 후]오역 수 : 5건/117건, 비율 : 5.0%\n",
      "\n",
      "번역 선호도가 상승한 경우 : 38건/117건, 비율 : 32.48%\n",
      "번역 선호도가 하락한 경우 : 33건/117건, 비율 : 28.21%\n",
      "번역 선호도가 그대로인 경우 : 46건/117건, 비율 : 39.32%\n"
     ]
    }
   ],
   "source": [
    "idiom_b_cnt = 0\n",
    "idiom_w_cnt = 0\n",
    "idiom_total_cnt = len(df_idiom)\n",
    "critical_b_cnt = 0\n",
    "critical_w_cnt = 0\n",
    "total_w_cnt = 0\n",
    "case_4_cnt = 0\n",
    "for label, check in zip(df_idiom['Unnamed: 4'][1:], df_idiom['Unnamed: 5'][1:]):\n",
    "    #print(label, check)\n",
    "    if label == 1:\n",
    "        idiom_w_cnt +=1\n",
    "        if check == 'O':\n",
    "            critical_w_cnt += 1 #오역 생성\n",
    "    elif label == 2:\n",
    "        idiom_b_cnt += 1\n",
    "        if check == 'O':\n",
    "            critical_b_cnt += 1 #개선\n",
    "            total_w_cnt += 1\n",
    "    elif label == 4:\n",
    "        total_w_cnt += 1\n",
    "        case_4_cnt += 1\n",
    "\n",
    "print(f\"[적용 전]오역 수 : {case_4_cnt}건/{idiom_total_cnt}건, 비율 : {round(case_4_cnt/idiom_total_cnt*100,2)}%\")\n",
    "print(f\"오역을 개선한 경우 : {critical_b_cnt}건/{total_w_cnt}건, 비율 : {round(critical_b_cnt/total_w_cnt*100,2)}%\")\n",
    "print(f\"오역이 추가로 생성된 경우 : {critical_w_cnt}건/{idiom_total_cnt-total_w_cnt}건, 비율 : {round(critical_w_cnt/(idiom_total_cnt-total_w_cnt),2)}%\")\n",
    "print(f\"[적용 후]오역 수 : {case_4_cnt-critical_b_cnt+critical_w_cnt}건/{idiom_total_cnt}건, 비율 : {round(case_4_cnt-critical_b_cnt+critical_w_cnt/idiom_total_cnt*100,2)}%\")\n",
    "print()\n",
    "print(f\"번역 선호도가 상승한 경우 : {idiom_b_cnt}건/{idiom_total_cnt}건, 비율 : {round(idiom_b_cnt/idiom_total_cnt*100,2)}%\")\n",
    "print(f\"번역 선호도가 하락한 경우 : {idiom_w_cnt}건/{idiom_total_cnt}건, 비율 : {round(idiom_w_cnt/idiom_total_cnt*100,2)}%\")\n",
    "print(f\"번역 선호도가 그대로인 경우 : {idiom_total_cnt-idiom_w_cnt-idiom_b_cnt}건/{idiom_total_cnt}건, 비율 : {round((idiom_total_cnt-idiom_w_cnt-idiom_b_cnt)/idiom_total_cnt*100,2)}%\")"
   ]
  },
  {
   "cell_type": "code",
   "execution_count": null,
   "id": "c4c2aae2-7d08-4de3-bbc5-764c2836403d",
   "metadata": {},
   "outputs": [],
   "source": []
  },
  {
   "cell_type": "code",
   "execution_count": null,
   "id": "0c2f194e-0d79-4719-9494-477350250573",
   "metadata": {},
   "outputs": [],
   "source": []
  }
 ],
 "metadata": {
  "kernelspec": {
   "display_name": "Python 3 (ipykernel)",
   "language": "python",
   "name": "python3"
  },
  "language_info": {
   "codemirror_mode": {
    "name": "ipython",
    "version": 3
   },
   "file_extension": ".py",
   "mimetype": "text/x-python",
   "name": "python",
   "nbconvert_exporter": "python",
   "pygments_lexer": "ipython3",
   "version": "3.10.15"
  }
 },
 "nbformat": 4,
 "nbformat_minor": 5
}
