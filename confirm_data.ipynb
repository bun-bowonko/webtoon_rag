{
 "cells": [
  {
   "cell_type": "code",
   "execution_count": 1,
   "id": "a4c70a63-f59f-47d7-ab37-e76ca2c4b3d0",
   "metadata": {},
   "outputs": [
    {
     "name": "stderr",
     "output_type": "stream",
     "text": [
      "/home/bun.2/.cache/pypoetry/virtualenvs/poetry-env-eDEwtiIl-py3.10/lib/python3.10/site-packages/google/cloud/bigquery/table.py:1820: UserWarning: BigQuery Storage module not found, fetch data with the REST endpoint instead.\n",
      "  warnings.warn(\n"
     ]
    }
   ],
   "source": [
    "project_id = \"prod-ai-project\"\n",
    "\n",
    "from google.cloud import bigquery\n",
    "client = bigquery.Client(project=project_id)\n",
    "sql = \"\"\"select series_id, episode_id, org_input_text, org_output_text, prompt \n",
    "        from webtoon_translation.structured_240820_ep_line\n",
    "        where data_split = 'romance_valid'\"\"\"\n",
    "df = client.query(sql).result().to_dataframe()"
   ]
  },
  {
   "cell_type": "code",
   "execution_count": 9,
   "id": "cf16fb35-dc8d-4266-8cef-76a4160f76f7",
   "metadata": {},
   "outputs": [
    {
     "name": "stdout",
     "output_type": "stream",
     "text": [
      "74\n"
     ]
    }
   ],
   "source": [
    "print(len(df['org_input_text']))"
   ]
  },
  {
   "cell_type": "code",
   "execution_count": 8,
   "id": "660e4b57-423e-499d-8fe8-d4e9b224ea56",
   "metadata": {},
   "outputs": [
    {
     "name": "stdout",
     "output_type": "stream",
     "text": [
      "북부 최전방 헤일론\n",
      "여기가 헤일론 공작 성….\n",
      "엄청난 위압감이야…\n",
      "나는 결국 가족에게 떠밀려 무자비한 공작이 다스린다는 북부 최전방에 왔다.\n",
      "딱 봐도 마왕성 같은 게 사람 엄청 굴릴 것 같다.\n",
      "내 무덤을 내가 팠지...\n",
      "이쪽으로.\n",
      "문을 열어라.\n",
      "문이, 엄청 커…!!\n",
      "북부의 공작, 아벨 헤일론\n",
      "너 나름대로는 각오했겠지. 하지만…\n",
      "너 같은 어린애는 여기에 필요 없다.\n",
      "집으로 돌아가도록.\n",
      "쓸모없는 자에게 투자할 시간은 없다 이건가.\n",
      "아벨은 모르겠지만, 지금의 나는 마땅히 돌아갈 곳도 없어.\n",
      "원작 속의, 자신의 마법적 재능을 모르던 피오나는-\n",
      "이렇게 그린 가문에서도 헤일론에서도 쫓겨난다.\n",
      "그리고 이때 세상에 버림받은 상처가\n",
      "후에 피오나가 악역이 되는 결정적인 계기가 된다.\n",
      "하지만 지금의 나는 알고 있어.\n"
     ]
    }
   ],
   "source": [
    "for i in range(len(df['org_input_text'])):\n",
    "    text_li = df['org_input_text'][i]\n",
    "    for text in text_li:\n",
    "        print(text)\n",
    "    break"
   ]
  },
  {
   "cell_type": "code",
   "execution_count": null,
   "id": "4e0d7a45-ec6d-4083-9754-d4819f350c88",
   "metadata": {},
   "outputs": [],
   "source": []
  }
 ],
 "metadata": {
  "kernelspec": {
   "display_name": "Python 3 (ipykernel)",
   "language": "python",
   "name": "python3"
  },
  "language_info": {
   "codemirror_mode": {
    "name": "ipython",
    "version": 3
   },
   "file_extension": ".py",
   "mimetype": "text/x-python",
   "name": "python",
   "nbconvert_exporter": "python",
   "pygments_lexer": "ipython3",
   "version": "3.10.15"
  }
 },
 "nbformat": 4,
 "nbformat_minor": 5
}
