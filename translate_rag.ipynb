{
 "cells": [
  {
   "cell_type": "code",
   "execution_count": 1,
   "id": "4ade6217-bec1-44a2-ba65-610281b376e4",
   "metadata": {
    "tags": []
   },
   "outputs": [
    {
     "name": "stderr",
     "output_type": "stream",
     "text": [
      "USER_AGENT environment variable not set, consider setting it to identify your requests.\n"
     ]
    }
   ],
   "source": [
    "from langchain_community.chat_models import ChatOllama\n",
    "from langchain_core.prompts import ChatPromptTemplate\n",
    "from langchain_core.runnables import RunnablePassthrough\n",
    "from langchain_core.output_parsers import StrOutputParser\n",
    "from langchain_core.prompts import PromptTemplate\n",
    "from langchain_community.vectorstores import FAISS\n",
    "from langchain_community.document_loaders import WebBaseLoader\n",
    "from langchain_community.embeddings import OllamaEmbeddings\n",
    "from langchain.text_splitter import RecursiveCharacterTextSplitter\n",
    "import bs4\n",
    "import ssl\n",
    "import urllib3"
   ]
  },
  {
   "cell_type": "code",
   "execution_count": 194,
   "id": "0fec720e-64b7-4755-b8ac-97b2c7fb219b",
   "metadata": {
    "tags": []
   },
   "outputs": [],
   "source": [
    "# url= \"https://www.smartfn.co.kr/article/view/sfn202412230026\"\n",
    "# # url= [\"https://www.smartfn.co.kr/article/view/sfn202412230026\",\"https://www.kipost.net/news/articleView.html?idxno=321448\"]\n",
    "# loader = WebBaseLoader(url)\n",
    "# loader.requests_kwargs = {\"verify\": False}\n",
    "# docs = loader.load()\n",
    "# print(len(docs[0].page_content))\n",
    "\n",
    "import pandas as pd\n",
    "from langchain.docstore.document import Document\n",
    "\n",
    "file_path = \"test2.tsv\"\n",
    "df = pd.read_csv(file_path, sep='\\t', header=None, names=[\"ko\",\"en\"], skiprows=1)\n",
    "docs = [Document(page_content=f\"한글: ({row['ko']}) -> 영어 번역: ({row['en']})\") for _, row in df.iterrows()]\n"
   ]
  },
  {
   "cell_type": "code",
   "execution_count": 195,
   "id": "8a2377b4-30f8-4aac-ac1a-755f520a73c0",
   "metadata": {
    "tags": []
   },
   "outputs": [
    {
     "name": "stdout",
     "output_type": "stream",
     "text": [
      "7\n"
     ]
    }
   ],
   "source": [
    "print(len(docs))"
   ]
  },
  {
   "cell_type": "code",
   "execution_count": 196,
   "id": "c5221f41-2916-4b5a-ab6d-1e9724714ad8",
   "metadata": {
    "tags": []
   },
   "outputs": [
    {
     "name": "stdout",
     "output_type": "stream",
     "text": [
      "한글: (가가가) -> 영어 번역: (aaa)\n"
     ]
    }
   ],
   "source": [
    "print(docs[0].page_content)"
   ]
  },
  {
   "cell_type": "code",
   "execution_count": 197,
   "id": "c9d9182f-b70e-416c-aced-2b89c47a5b26",
   "metadata": {
    "tags": []
   },
   "outputs": [
    {
     "data": {
      "text/plain": [
       "[Document(metadata={}, page_content='한글: (가가가) -> 영어 번역: (aaa)'),\n",
       " Document(metadata={}, page_content='한글: (나나나) -> 영어 번역: (bbb)'),\n",
       " Document(metadata={}, page_content='한글: (다다다) -> 영어 번역: (ccc)'),\n",
       " Document(metadata={}, page_content='한글: (라라라) -> 영어 번역: (ddd)'),\n",
       " Document(metadata={}, page_content='한글: (마마마) -> 영어 번역: (eee)'),\n",
       " Document(metadata={}, page_content='한글: (사각사각) -> 영어 번역: (sssss)'),\n",
       " Document(metadata={}, page_content='한글: (뿌뿌) -> 영어 번역: (bubu)')]"
      ]
     },
     "execution_count": 197,
     "metadata": {},
     "output_type": "execute_result"
    }
   ],
   "source": [
    "docs"
   ]
  },
  {
   "cell_type": "code",
   "execution_count": 198,
   "id": "757889fb-fabc-4d1c-82c5-f14106bd5118",
   "metadata": {
    "tags": []
   },
   "outputs": [],
   "source": [
    "# text_splitter = RecursiveCharacterTextSplitter(chunk_size=1000, chunk_overlap=200, length_function=len, is_separator_regex=False)\n",
    "# splits = text_splitter.split_documents(docs)\n",
    "# print(len(splits))"
   ]
  },
  {
   "cell_type": "code",
   "execution_count": 199,
   "id": "aeb1edd6-fdb1-4229-80ba-a5a7776e8ec8",
   "metadata": {
    "tags": []
   },
   "outputs": [],
   "source": [
    "# embeddings = OllamaEmbeddings(model='llama3:70b',temperature=0)\n",
    "# vectorstore = FAISS.from_documents(documents=splits, embedding=embeddings)"
   ]
  },
  {
   "cell_type": "code",
   "execution_count": 200,
   "id": "6fe1d6b2-eecc-419e-9929-dfe040dfb5e0",
   "metadata": {
    "tags": []
   },
   "outputs": [],
   "source": [
    "embeddings = OllamaEmbeddings(model='llama3:70b',temperature=0)\n",
    "vectorstore = FAISS.from_documents(documents=docs, embedding=embeddings)"
   ]
  },
  {
   "cell_type": "code",
   "execution_count": 201,
   "id": "37d7e7e2-3f6f-4593-bdce-c10c114011b0",
   "metadata": {
    "tags": []
   },
   "outputs": [],
   "source": [
    "retriever = vectorstore.as_retriever(search_type='similarity', search_kwargs={'k':6})"
   ]
  },
  {
   "cell_type": "code",
   "execution_count": 202,
   "id": "cc51866f-fd3b-49bf-9421-b8e04d9b1242",
   "metadata": {
    "tags": []
   },
   "outputs": [
    {
     "name": "stdout",
     "output_type": "stream",
     "text": [
      "tags=['FAISS', 'OllamaEmbeddings'] vectorstore=<langchain_community.vectorstores.faiss.FAISS object at 0x7f5bc41f0dc0> search_kwargs={'k': 6}\n"
     ]
    }
   ],
   "source": [
    "print(retriever)"
   ]
  },
  {
   "cell_type": "code",
   "execution_count": 230,
   "id": "0dcf315b-be4b-4716-88a3-0487f6bc1430",
   "metadata": {
    "tags": []
   },
   "outputs": [],
   "source": [
    "template = \"용어집을 반영해서 한국어를 영어로 번역해줘. \\\n",
    "첫 번째 번역은 <translate_start1>으로 시작하고 <translate_end1>로 끝내줘. \\\n",
    "그 다음 틀린 부분이 있나 검토하고 두 번 째 번역은 <translate_start2>로 시작하고 <translate_end2>로 끝내줘. \\\n",
    "마지막으로 번역한 문장을 다시 한국어로 번역한 후에, 주어진 한국어와 일치하는지 검토한 후, 두 번 째 번역문에서 틀린 부분이 있나 검토하고 마지막 번역은 <translate_start3>로 시작하고 <translate_end3>로 끝내줘. \\\n",
    "용어집 : {context}\\n\\n한국어 : {question}\"\n",
    "input_prompt = ChatPromptTemplate.from_template(template)"
   ]
  },
  {
   "cell_type": "code",
   "execution_count": 231,
   "id": "feae9f61-6491-4146-a19f-bdd2475fe5ed",
   "metadata": {
    "tags": []
   },
   "outputs": [],
   "source": [
    "llm = ChatOllama(model='llama3:70b', temperature=0)"
   ]
  },
  {
   "cell_type": "code",
   "execution_count": 232,
   "id": "2b57de46-5c53-4fba-ad96-174bcc76261e",
   "metadata": {
    "tags": []
   },
   "outputs": [],
   "source": [
    "output_parser = StrOutputParser()"
   ]
  },
  {
   "cell_type": "code",
   "execution_count": 233,
   "id": "6413065e-c44d-4496-9df5-8a2ac81d5045",
   "metadata": {
    "tags": []
   },
   "outputs": [],
   "source": [
    "def merge_info(docs):\n",
    "    return '\\n\\n'.join(doc.page_content for doc in docs)"
   ]
  },
  {
   "cell_type": "code",
   "execution_count": 234,
   "id": "bb0d9cd4-d8d3-4b59-87f5-c86775da3944",
   "metadata": {
    "tags": []
   },
   "outputs": [],
   "source": [
    "# chain_level_2 = {'question' : RunnablePassthrough(), 'context' : retriever | merge_info} | input_prompt | llm | output_parser"
   ]
  },
  {
   "cell_type": "code",
   "execution_count": 235,
   "id": "4b7b1804-cee5-4891-9b2b-a262bbcf2f5a",
   "metadata": {
    "tags": []
   },
   "outputs": [],
   "source": [
    "# print(chain_level_2.invoke({'question' : '현대차 2024년도 영업 실적에 대해서 50자 이내로 말해봐.'}))"
   ]
  },
  {
   "cell_type": "code",
   "execution_count": 236,
   "id": "b067ba06-849f-4b17-9d15-fb9498c3deb4",
   "metadata": {
    "tags": []
   },
   "outputs": [],
   "source": [
    "chain_level_3 = {'question' : RunnablePassthrough(), 'context':retriever|merge_info} | input_prompt | llm | output_parser"
   ]
  },
  {
   "cell_type": "code",
   "execution_count": 237,
   "id": "fd6dbf8c-ca31-420d-8354-bb490900919f",
   "metadata": {
    "tags": []
   },
   "outputs": [
    {
     "name": "stdout",
     "output_type": "stream",
     "text": [
      "Let's go through the translation process.\n",
      "\n",
      "**First Translation**\n",
      "<translate_start1>\n",
      "Is aaa going bbb or ccc? That's what I'm curious about. Ssssss sounds are heard.\n",
      "<translate_end1>\n",
      "\n",
      "**Review and Correction**\n",
      "Upon reviewing the first translation,<|begin_of_text|>2019, I noticed that the sentence structure is not natural in English. Also, the word order needs to be adjusted.\n",
      "\n",
      "**Second Translation**\n",
      "<translate_start2>\n",
      "I wonder if it's aaa or bbb that's going ccc. That's what I'm curious about. Meanwhile, I hear ssssss sounds.\n",
      "<translate_end2>\n",
      "\n",
      "**Back-Translation and Review**\n",
      "Let's translate the second translation back into Korean to ensure it matches the original sentence:\n",
      "\n",
      "한국어: 가가가는 나나나인가 다다다인가 그것이 궁금하다. 사각사각 소리가 난다.\n",
      "\n",
      "The back-translation looks good!\n",
      "\n",
      "**Final Translation**\n",
      "<translate_start3>\n",
      "I wonder if it's aaa or bbb that's going ccc. That's what I'm curious about. Meanwhile, I hear ssssss sounds.\n",
      "<translate_end3>\n",
      "\n",
      "This final translation should accurately convey the meaning of the original Korean sentence in English.\n"
     ]
    }
   ],
   "source": [
    "print(chain_level_3.invoke({'question' : '가가가는 나나나인가 다다다인가 그것이 궁금하다. 사각사각 소리가 난다'}))"
   ]
  },
  {
   "cell_type": "code",
   "execution_count": 238,
   "id": "df967465-289d-499a-8947-527bf86aeb52",
   "metadata": {
    "tags": []
   },
   "outputs": [
    {
     "name": "stdout",
     "output_type": "stream",
     "text": [
      "[Document(id='2fafb444-7179-493c-85b0-8e992fd27c36', metadata={}, page_content='한글: (라라라) -> 영어 번역: (ddd)'), Document(id='a6897ccf-3a6d-4619-9c93-d6a23e3e3b65', metadata={}, page_content='한글: (사각사각) -> 영어 번역: (sssss)'), Document(id='11c5dd9d-3105-40d8-85fa-1c9586f8b6f3', metadata={}, page_content='한글: (마마마) -> 영어 번역: (eee)'), Document(id='ff8c50f8-b26f-427b-8bd4-19e727c1c0f3', metadata={}, page_content='한글: (가가가) -> 영어 번역: (aaa)'), Document(id='f7a6e69b-d255-4397-8d96-f87d2602dba3', metadata={}, page_content='한글: (나나나) -> 영어 번역: (bbb)'), Document(id='4944583d-127f-4731-a912-2ebdca41bf54', metadata={}, page_content='한글: (다다다) -> 영어 번역: (ccc)')]\n"
     ]
    }
   ],
   "source": [
    "context = retriever.get_relevant_documents('가가가는 나나나인가 다다다인가 그것이 궁금하다., 사각사각 소리가 난다')\n",
    "print(context)"
   ]
  },
  {
   "cell_type": "code",
   "execution_count": null,
   "id": "94ab58fa-ee5f-4af0-bc3d-77948ef36f14",
   "metadata": {},
   "outputs": [],
   "source": []
  },
  {
   "cell_type": "code",
   "execution_count": null,
   "id": "abf32141-df13-4f13-a4eb-5ed8ec004729",
   "metadata": {},
   "outputs": [],
   "source": []
  }
 ],
 "metadata": {
  "environment": {
   "kernel": "conda-base-poetry-env-qdleyyui-py3.10",
   "name": "workbench-notebooks.m128",
   "type": "gcloud",
   "uri": "us-docker.pkg.dev/deeplearning-platform-release/gcr.io/workbench-notebooks:m128"
  },
  "kernelspec": {
   "display_name": "Python 3 (ipykernel)",
   "language": "python",
   "name": "python3"
  },
  "language_info": {
   "codemirror_mode": {
    "name": "ipython",
    "version": 3
   },
   "file_extension": ".py",
   "mimetype": "text/x-python",
   "name": "python",
   "nbconvert_exporter": "python",
   "pygments_lexer": "ipython3",
   "version": "3.10.16"
  }
 },
 "nbformat": 4,
 "nbformat_minor": 5
}
