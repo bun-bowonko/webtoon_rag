{
 "cells": [
  {
   "cell_type": "code",
   "execution_count": null,
   "id": "e1869d94-3d59-49fb-ae4f-f2b7826f9974",
   "metadata": {},
   "outputs": [
    {
     "name": "stderr",
     "output_type": "stream",
     "text": [
      "Fetching 50 files: 100%|███████████████████████████████████████████████████████| 50/50 [00:00<00:00, 7741.71it/s]\n",
      "Loading checkpoint shards:  46%|██████████████████████▌                          | 23/50 [01:32<02:38,  5.87s/it]"
     ]
    }
   ],
   "source": [
    "from transformers import AutoModelForCausalLM, AutoTokenizer\n",
    "\n",
    "model_name = \"meta-llama/Llama-4-Scout-17B-16E-Instruct\"\n",
    "\n",
    "# 모델 다운로드 (weights, config 등 포함)\n",
    "model = AutoModelForCausalLM.from_pretrained(\n",
    "    model_name,\n",
    "    trust_remote_code=True,\n",
    ")\n",
    "\n",
    "# 토크나이저 다운로드\n",
    "tokenizer = AutoTokenizer.from_pretrained(model_name)"
   ]
  },
  {
   "cell_type": "code",
   "execution_count": null,
   "id": "7dc2ab6f-7a11-438b-995e-afc634bcb143",
   "metadata": {},
   "outputs": [],
   "source": []
  }
 ],
 "metadata": {
  "kernelspec": {
   "display_name": "Python 3 (ipykernel)",
   "language": "python",
   "name": "python3"
  },
  "language_info": {
   "codemirror_mode": {
    "name": "ipython",
    "version": 3
   },
   "file_extension": ".py",
   "mimetype": "text/x-python",
   "name": "python",
   "nbconvert_exporter": "python",
   "pygments_lexer": "ipython3",
   "version": "3.10.16"
  }
 },
 "nbformat": 4,
 "nbformat_minor": 5
}
