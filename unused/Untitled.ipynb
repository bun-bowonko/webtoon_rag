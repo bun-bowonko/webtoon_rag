{
 "cells": [
  {
   "cell_type": "code",
   "execution_count": 1,
   "id": "6c58838c-4ca1-4935-91d7-9f11f3c1dbdf",
   "metadata": {},
   "outputs": [],
   "source": [
    "import yaml\n",
    "import json\n",
    "\n",
    "# 경로는 네 환경에 맞게 수정\n",
    "with open(\"/home/bun.2/.cache/huggingface/accelerate/default_config.yaml\", \"r\") as f:\n",
    "    yaml_config = yaml.safe_load(f)\n",
    "\n",
    "with open(\"accelerate_config.json\", \"w\") as f:\n",
    "    json.dump(yaml_config, f, indent=2)"
   ]
  },
  {
   "cell_type": "code",
   "execution_count": null,
   "id": "445a2618-e2a4-467c-a4d5-9c25640866f1",
   "metadata": {},
   "outputs": [],
   "source": []
  }
 ],
 "metadata": {
  "kernelspec": {
   "display_name": "Python 3 (ipykernel)",
   "language": "python",
   "name": "python3"
  },
  "language_info": {
   "codemirror_mode": {
    "name": "ipython",
    "version": 3
   },
   "file_extension": ".py",
   "mimetype": "text/x-python",
   "name": "python",
   "nbconvert_exporter": "python",
   "pygments_lexer": "ipython3",
   "version": "3.10.16"
  }
 },
 "nbformat": 4,
 "nbformat_minor": 5
}
