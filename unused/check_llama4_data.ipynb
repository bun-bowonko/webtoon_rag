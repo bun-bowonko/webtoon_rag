{
 "cells": [
  {
   "cell_type": "code",
   "execution_count": 10,
   "id": "33109fc1-fa4d-4ee6-a4e5-910e388b7554",
   "metadata": {},
   "outputs": [
    {
     "name": "stderr",
     "output_type": "stream",
     "text": [
      "/home/bun.2/.cache/pypoetry/virtualenvs/poetry-env-eDEwtiIl-py3.10/lib/python3.10/site-packages/google/cloud/bigquery/table.py:1820: UserWarning: BigQuery Storage module not found, fetch data with the REST endpoint instead.\n",
      "  warnings.warn(\n"
     ]
    },
    {
     "name": "stdout",
     "output_type": "stream",
     "text": [
      "                                                prompt\n",
      "0    ### glossary\\n• 사교계: socialite circles / high ...\n",
      "1    ### glossary\\n• 황태자: crown prince\\n• 변태: perve...\n",
      "2    ### glossary\\n• 하녀: maid\\n• 사교계: socialite cir...\n",
      "3    ### glossary\\n• 황태자: crown prince\\n• 하녀: maid\\...\n",
      "4    ### glossary\\n• 평민: commoner\\n• 시녀장: head maid...\n",
      "..                                                 ...\n",
      "665  ### glossary\\n• 마법: magic / spell\\n• 대공: archd...\n",
      "666  ### glossary\\n• 대공: archduke / archduchess; gr...\n",
      "667  ### glossary\\n• 마법: magic / spell\\n\\n### sourc...\n",
      "668  ### glossary\\n• 마법: magic / spell\\n• 제국: empir...\n",
      "669  ### glossary\\n• 대공: archduke / archduchess; gr...\n",
      "\n",
      "[670 rows x 1 columns]\n",
      "<class 'pandas.core.frame.DataFrame'>\n",
      "::: Dataset Example :::\n",
      "{'text': \"<|begin_of_text|><|start_header_id|>system<|end_header_id|>\\nYou're an expert translator who translates Korean webtoon in English. Make sure the number of target sentences matches the number of source sentences. The result should be TSV formatted. \\n    • Find a balance between staying true to the Korean meaning and keeping a natural flow. Don't be afraid to add to the text. Embellish it. \\n    • Avoid translating word-for-word. Keep the general feeling and translate the text accordingly. \\n    • Translate with an American audience in mind. This means easy-to-read, conversational English.<|eot_id|><|start_header_id|>user<|end_header_id|>\\n### glossary\\n• 사교계: socialite circles / high society\\n• 제국: empire\\n\\n### source\\n000\\t[UNK] 아이리스 자작 영애.\\n001\\t[UNK] 감히 내가 공녀임을 알면서도\\n002\\t[UNK] 내 드레스가 ‘천박하다’ 지적했습니까?\\n003\\t[UNK] 고작 자작 영애인 당신이?\\n004\\t[UNK] 곱슬곱슬한 분홍 머리카락\\n005\\t[UNK] 다정함을 한껏 담은 따스한 분홍빛 눈\\n006\\t[UNK] 티끌 하나 없이 새하얀 피부\\n007\\t[UNK] 사랑스러운 모든 것을 가진\\n008\\t[UNK] 이 소설의 주인공, ‘아이리스 얀 콘라드’\\n009\\t[UNK] 저는 단지… 공녀님의 옷이 무희와 같이 특이하다 얘기한 것뿐입니다.\\n010\\t[UNK] 그것을 어떻게 천박하다 받아들이신 건지 영문을 모르겠습니다.\\n011\\t[UNK] 영애께서는 공작가의 품격을 판단할 그릇을 가지고 있으십니까?\\n012\\t[UNK] 저는 그런 의도로 말씀드린 게…!\\n013\\t[UNK] 의도를 가졌든, 가지지 않았든…\\n014\\t[UNK] 당신 잣대로 칸드미온 공작가를 판단한 것임을 모르겠습니까?\\n015\\t[UNK] 사교계는 가문의 힘보다 레이디들의 역량이 중요시되는 곳\\n016\\t[UNK] 말과 행동에 따라 레이디의 평판이 달라진다.\\n017\\t[UNK] 다른 영애였다면 드레스를 지적받은 걸 수치로 여기며 말을 돌렸겠지만\\n018\\t[UNK] 내가 누구인가?\\n019\\t[UNK] 제국을 받치는 두 기둥 가운데 하나\\n020\\t[UNK] 재력을 상징하는 황금가지를 든 칸드미온\\n021\\t[UNK] 그 칸드미온 공작가의 하나뿐인 공녀,\\n022\\t[UNK] 레일린 샨 칸드미온이다.\\n023\\t[UNK] 소설 속 악녀 레일린은 수시로 패악을 부리고 다녔지만\\n024\\t[UNK] 레일린을 신봉하는 이들은 차고 넘쳤다.\\n025\\t[UNK] 세상은 돈과 권력이 최고니까!\\n026\\t[UNK] 돈이고 명예고 아무것도 없는 한국인으로만 30년,\\n027\\t[UNK] 멘탈 하나는 엄청나게 단단하거든?\\n028\\t[UNK] 안 돼, 악녀 언니!\\n029\\t[UNK] 너 그동안 레일린을 아주 갖고 놀았지?\\n030\\t[UNK] 오늘 제대로 걸렸다, 주인공 버프는 이제 끝이야!\\n031\\t[UNK] 나는 칸드미온의 정통 핏줄.\\n032\\t[UNK] 날 모욕한 건 곧, 공작가를 모욕한 것.\\n033\\t[UNK] 오해예요, 저는…!\\n034\\t[UNK] 전 공녀님께 더 좋은 디자이너를 알려드리려고…!\\n035\\t[UNK] 그것 또한,\\n036\\t[UNK] 내가 판단하는 거랍니다, 아이리스 자작 영애.\\n037\\t[UNK] 이게 무슨 소란인가.\\n038\\t[UNK] 나타났다.\\n039\\t[UNK] 이 소설 속 남자 주인공\\n040\\t[UNK] 레일린이 미친 듯이 사랑을 갈구했던 사람\\n041\\t[UNK] 여주가 당하면 남주가 구하러 온다.\\n042\\t[UNK] 모든 소설의 법칙이지.\\n043\\t[UNK] 레일린.\\n044\\t[UNK] 대체 언제까지 소란을 일으키고 다닐 작정이오?\\n045\\t[UNK] 이 언니 아주 얼빠였네?! 황태자가 잘생겨서 목맸고만? 미남은 소중하지, 암! 아니, 정신 차리자!\\n046\\t[UNK] 소란이라… 당신이 제게 할 말이던가요?\\n047\\t[UNK] 건방짐이 하늘을 찌르는군.\\n048\\t[UNK] 건방짐과 자신감은 엄연히 다르답니다.\\n049\\t[UNK] 그 사실을 아셨으면 좋겠네요.\\n050\\t[UNK] 앞에서는 약혼녀인 레일린을 무시하고, 모욕하고\\n051\\t[UNK] 뒤에서는 아이리스와 바람 피운\\n052\\t[UNK] 인간 말종 바람둥이 새끼야!\\n053\\t[UNK] 전 그저 영애에게 귀족의 법도에 대해 이야기하는 중이었습니다.\\n054\\t[UNK] 와인을 머리에 쏟아부으면서?\\n055\\t[UNK] 네, 그래야 스스로의 위치를 알 것 같아서요.\\n056\\t[UNK] 이제 잘 아시리라 생각합니다만.\\n057\\t[UNK] 어떤가요, 아이리스?\\n058\\t[UNK] …덕분에 잘 알게 되었습니다.\\n059\\t[UNK] 그럴 필요 없소, 들어줄 가치도 없으니. 이만 돌아가지.\\n060\\t[UNK] 아, 참!\\n061\\t[UNK] 부디\\n062\\t[UNK] 저희 더 이상 약혼 관계도 아닌데,\\n063\\t[UNK] 저를 향해 말을 쉽게 놓지 않으셨으면 해요.\\n064\\t[UNK] 노려보면 무서울 줄 알고?\\n065\\t[UNK] 두고 봐!\\n066\\t[UNK] 세상을 다 뒤져서라도\\n067\\t[UNK] 너보다 괜찮은 남자랑 결혼한다!\\n068\\t[UNK] 아, 물론\\n069\\t[UNK] 넘쳐나는 우리 집 재력을 실컷 즐기면서 말이야!<|eot_id|><|start_header_id|>assistant<|end_header_id|>\\n000\\tms. iris.\\n001\\tyou dare call my dress “vulgar”...\\n002\\t...when you know very well that I’m the duke’s daughter?\\n003\\tyou, the daughter of a mere viscount, dare to criticize me?\\n004\\twavy pink hair,\\n005\\trosy eyes that glimmer with tenderness and warmth,\\n006\\tand flawless skin.\\n007\\tthese are the qualities that make iris van conrad, the female lead of this story,\\n008\\tever so lovely.\\n009\\tI was merely commenting on how unique your dress was, just like a dancer’s.\\n010\\tI don’t understand how you interpreted that as an insult.\\n011\\tdo you believe that you’re entitled to judge someone from a duke’s family?\\n012\\tI didn’t mean to offend--\\n013\\tregardless of your intention, do you not realize...\\n014\\t...that you just critiqued duke candmion’s family by your own standards?\\n015\\thigh society is a place where a lady’s competence is more important than how powerful her family is.\\n016\\tevery word and action affects a lady’s reputation.\\n017\\tany other woman would have felt humiliated to receive such a comment about her dress and would quickly change the subject.\\n018\\twho am I, you ask?\\n019\\tmy family is one of the two pillars that support the empire,\\n020\\tand our wealth is like a tree with golden branches.\\n021\\tI’m the only daughter of duke candmion,\\n022\\treilynn shaun candmion.\\n023\\tin the original story, reilynn was a cruel and vicious villainess,\\n024\\tbut was still surrounded by several devotees.\\n025\\tafter all, money and power is everything, right?\\n026\\tfor the past 30 years, I’ve lived the life of an ordinary korean person, without riches, honor, or anything of the sort.\\n027\\tI am, however, mentally stronger than anyone.\\n028\\tno! girl, don’t do that!\\n029\\tyou’ve made a fool out of reilynn for far too long, iris.\\n030\\tyour days as the female lead end here!\\n031\\tI’m a legitimate heir of the candmion family.\\n032\\tinsulting me is no different from insulting the duke and his kin.\\n033\\tthis is all a terrible misunderstanding!\\n034\\tI only wished to inform you of a better designer!\\n035\\tthat too...\\n036\\t...is up to me to decide. wouldn’t you agree, ms. iris?\\n037\\twhat is all this commotion?\\n038\\tthere he is.\\n039\\tthe male lead of this story.\\n040\\the’s the man reilynn fervently loved.\\n041\\tthe prince always rescues the damsel in distress.\\n042\\tit’s a universal rule that applies to all fairy tales.\\n043\\treilynn.\\n044\\twhen will you ever stop making a fuss over everything?\\n045\\twhoa, this girl really went for the looks! no wonder she was head over heels for this guy. he’s hot as hell! ah, I’ve got to compose myself!\\n046\\ta fuss? you’re one to talk, your highness.\\n047\\tyour arrogance astounds me.\\n048\\tthere’s a clear difference between arrogance and confidence.\\n049\\tI hope you’ll bear that in mind.\\n050\\tnot only did he shun and insult reilynn,\\n051\\tbut he also cheated on her with iris.\\n052\\the’s nothing but a womanizing scumbag!\\n053\\tI was just teaching ms. iris about customs of the aristocracy.\\n054\\tby pouring wine over her head?\\n055\\tthat’s right. I thought it was the only way she’d realize her place.\\n056\\tI’m sure she knows now.\\n057\\tisn’t that right, ms. iris?\\n058\\tyes. it’s thanks to you, lady reilynn.\\n059\\tyou don’t need to do that. she’s not worth listening to. let’s head back.\\n060\\tah, I almost forgot to mention!\\n061\\tI kindly ask...\\n062\\tsince we’re no longer engaged,\\n063\\t...that you refrain from speaking to me so casually.\\n064\\tdoes he think that glaring will intimidate me?\\n065\\tjust wait!\\n066\\teven if it means I have to search all over the world,\\n067\\tI shall marry a man better than you!\\n068\\toh, and of course,\\n069\\tI’ll do it while enjoying my family’s abundant wealth to the fullest!<|eot_id|>\"}\n"
     ]
    }
   ],
   "source": [
    "from google.cloud import bigquery\n",
    "from datasets import load_dataset, Dataset\n",
    "\n",
    "project_id = \"prod-ai-project\"\n",
    "client = bigquery.Client(project=project_id)\n",
    "data_sql = \"where data_split in ('train') and create_date = (select max(create_date) from webtoon_translation.sft_dataset)\"\n",
    "\n",
    "def instruct_structure(prompt, system_prompt=\"\"\"You're an expert translator who translates Korean webtoon in English. Make sure the number of target sentences matches the number of source sentences. The result should be TSV formatted. \n",
    "    • Find a balance between staying true to the Korean meaning and keeping a natural flow. Don't be afraid to add to the text. Embellish it. \n",
    "    • Avoid translating word-for-word. Keep the general feeling and translate the text accordingly. \n",
    "    • Translate with an American audience in mind. This means easy-to-read, conversational English.\"\"\"):\n",
    "        input_text, output_text = prompt.split('### target')\n",
    "        input_text = input_text.replace('### glossaries', '### glossary').replace('\\n* ', '\\n• ')\n",
    "        return f\"\"\"<|begin_of_text|><|start_header_id|>system<|end_header_id|>\n",
    "{system_prompt}<|eot_id|><|start_header_id|>user<|end_header_id|>\n",
    "{input_text.strip()}<|eot_id|><|start_header_id|>assistant<|end_header_id|>\n",
    "{output_text.strip()}<|eot_id|>\"\"\"\n",
    "    \n",
    "train_sql = f\"\"\"          \n",
    "              select prompt\n",
    "              from webtoon_translation.sft_dataset\n",
    "              {data_sql}\n",
    "              \"\"\"\n",
    "train_df = client.query(train_sql).result().to_dataframe()\n",
    "print(train_df)\n",
    "print(type(train_df))\n",
    "train_df['text'] = train_df.prompt.map(lambda x: instruct_structure(x))\n",
    "\n",
    "train_dataset = Dataset.from_pandas(train_df[['text']])\n",
    "\n",
    "print('::: Dataset Example :::')\n",
    "print(train_dataset[0])"
   ]
  },
  {
   "cell_type": "code",
   "execution_count": null,
   "id": "89bef605-5396-45d7-a17b-8268d2d9a749",
   "metadata": {},
   "outputs": [],
   "source": []
  }
 ],
 "metadata": {
  "kernelspec": {
   "display_name": "Python 3 (ipykernel)",
   "language": "python",
   "name": "python3"
  },
  "language_info": {
   "codemirror_mode": {
    "name": "ipython",
    "version": 3
   },
   "file_extension": ".py",
   "mimetype": "text/x-python",
   "name": "python",
   "nbconvert_exporter": "python",
   "pygments_lexer": "ipython3",
   "version": "3.10.15"
  }
 },
 "nbformat": 4,
 "nbformat_minor": 5
}
