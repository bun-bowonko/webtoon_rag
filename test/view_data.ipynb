{
 "cells": [
  {
   "cell_type": "code",
   "execution_count": 1,
   "id": "84c46142-1def-4300-a42c-cea34da31c8e",
   "metadata": {},
   "outputs": [
    {
     "name": "stderr",
     "output_type": "stream",
     "text": [
      "/home/bun.2/.cache/pypoetry/virtualenvs/poetry-env-eDEwtiIl-py3.10/lib/python3.10/site-packages/google/cloud/bigquery/table.py:1820: UserWarning: BigQuery Storage module not found, fetch data with the REST endpoint instead.\n",
      "  warnings.warn(\n",
      "100%|████████████████████████████████████████████████████████████████████████████████████████████████| 74/74 [00:00<00:00, 18823.37it/s]\n"
     ]
    }
   ],
   "source": [
    "import re\n",
    "from langchain_community.vectorstores import FAISS\n",
    "from langchain.docstore.document import Document\n",
    "import bs4\n",
    "import ssl\n",
    "import urllib3\n",
    "import pandas as pd\n",
    "import faiss\n",
    "import os\n",
    "from langchain.embeddings import HuggingFaceEmbeddings\n",
    "import torch\n",
    "import gc\n",
    "\n",
    "def instruct_structure(prompt):\n",
    "    input_text, output_text = prompt.split('### target')\n",
    "    input_text = input_text.replace('### glossaries', '### glossary').replace('\\n* ', '\\n• ')\n",
    "    input_text = re.sub(r\"\\[[^\\]]+\\] \", \"[UNK] \", input_text)\n",
    "    return input_text\n",
    "\n",
    "project_id = \"prod-ai-project\"\n",
    "\n",
    "from google.cloud import bigquery\n",
    "client = bigquery.Client(project=project_id)\n",
    "sql = \"\"\"select series_id, episode_id, org_input_text, org_output_text, prompt \n",
    "        from webtoon_translation.structured_240820_ep_line\n",
    "        where data_split = 'romance_valid'\"\"\"\n",
    "df = client.query(sql).result().to_dataframe()\n",
    "from tqdm import tqdm\n",
    "tqdm.pandas()\n",
    "df['prompt'] = df['prompt'].progress_apply(lambda x: instruct_structure(x))"
   ]
  },
  {
   "cell_type": "code",
   "execution_count": 2,
   "id": "d91f7ae2-2b0d-479c-b9f7-169c5b83897f",
   "metadata": {},
   "outputs": [],
   "source": [
    "data_idx = 1\n",
    "data = df['prompt'][data_idx]\n",
    "example = data.split(\"### source\")[1].strip()"
   ]
  },
  {
   "cell_type": "code",
   "execution_count": 3,
   "id": "11dd1743-dc2e-434a-ac4c-e3e45b8bca7a",
   "metadata": {},
   "outputs": [
    {
     "name": "stdout",
     "output_type": "stream",
     "text": [
      "000\t[UNK] 키에에엑-!!\n",
      "001\t[UNK] 후우.\n",
      "002\t[UNK] 놀랍군.\n",
      "003\t[UNK] 꺅?!\n",
      "004\t[UNK] 마치 신이 내리는 천벌 같구나.\n",
      "005\t[UNK] 이런 솜씨의 마법사는 처음이다.\n",
      "006\t[UNK] 넌 사람의 아이가 맞느냐?\n",
      "007\t[UNK] 당연하죠.\n",
      "008\t[UNK] 굳이 말하자면 미래의 최종 보스랍니다.\n",
      "009\t[UNK] 그렇겠지.\n",
      "010\t[UNK] 몇 발짝만 나가면 추락하겠어.\n",
      "011\t[UNK] 설마 이 정도로는 부족하다고 여기서 던지려는 건 아니지?!\n"
     ]
    }
   ],
   "source": [
    "print(example)"
   ]
  },
  {
   "cell_type": "code",
   "execution_count": null,
   "id": "300e9061-2e01-4e7c-9782-7cad98ed4956",
   "metadata": {},
   "outputs": [],
   "source": []
  },
  {
   "cell_type": "code",
   "execution_count": null,
   "id": "00a004a7-1005-4b9e-9be7-80b899da71cf",
   "metadata": {},
   "outputs": [],
   "source": []
  }
 ],
 "metadata": {
  "kernelspec": {
   "display_name": "Python 3 (ipykernel)",
   "language": "python",
   "name": "python3"
  },
  "language_info": {
   "codemirror_mode": {
    "name": "ipython",
    "version": 3
   },
   "file_extension": ".py",
   "mimetype": "text/x-python",
   "name": "python",
   "nbconvert_exporter": "python",
   "pygments_lexer": "ipython3",
   "version": "3.10.15"
  }
 },
 "nbformat": 4,
 "nbformat_minor": 5
}
